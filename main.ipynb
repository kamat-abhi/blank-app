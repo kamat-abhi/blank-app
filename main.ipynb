{
 "cells": [
  {
   "cell_type": "code",
   "execution_count": null,
   "id": "96208bbe",
   "metadata": {},
   "outputs": [],
   "source": [
    "import numpy as np\n",
    "import pandas as pd"
   ]
  },
  {
   "cell_type": "code",
   "execution_count": null,
   "id": "6f83726d",
   "metadata": {},
   "outputs": [],
   "source": [
    "credit =pd.read_csv('data\\\\tmdb_5000_credits.csv')\n",
    "credit"
   ]
  },
  {
   "cell_type": "code",
   "execution_count": null,
   "id": "c64654e2",
   "metadata": {},
   "outputs": [],
   "source": [
    "movies = pd.read_csv('data\\\\tmdb_5000_movies.csv')\n",
    "movies.head(1)"
   ]
  },
  {
   "cell_type": "code",
   "execution_count": null,
   "id": "48c094be",
   "metadata": {},
   "outputs": [],
   "source": [
    "bolly= pd.read_csv('data\\\\IMDB-Movie-Dataset(2023-1951).csv')\n",
    "bolly"
   ]
  },
  {
   "cell_type": "code",
   "execution_count": null,
   "id": "fc3c4f5d",
   "metadata": {},
   "outputs": [],
   "source": [
    "bolly.info()"
   ]
  },
  {
   "cell_type": "code",
   "execution_count": null,
   "id": "37e6c7dd",
   "metadata": {},
   "outputs": [],
   "source": [
    "bolly.isnull().sum()"
   ]
  },
  {
   "cell_type": "code",
   "execution_count": null,
   "id": "12e78322",
   "metadata": {},
   "outputs": [],
   "source": [
    "bolly = bolly[['movie_id','movie_name','overview','genre','cast','director']]\n",
    "bolly"
   ]
  },
  {
   "cell_type": "code",
   "execution_count": null,
   "id": "56045ede",
   "metadata": {},
   "outputs": [],
   "source": [
    "bolly = bolly.rename(columns={'movie_id': 'id', 'movie_name': 'title', 'genre': 'genres'})\n",
    "bolly.head()"
   ]
  },
  {
   "cell_type": "code",
   "execution_count": null,
   "id": "b254b730",
   "metadata": {},
   "outputs": [],
   "source": [
    "bolly['overview']   = bolly['overview'].apply(lambda x: x.split() if isinstance(x, str) else x)\n",
    "bolly['genres']   = bolly['genres'].apply(lambda x: x.split() if isinstance(x, str) else x)\n",
    "bolly['cast']     = bolly['cast'].apply(lambda x: x.split() if isinstance(x, str) else x)\n",
    "bolly['director'] = bolly['director'].apply(lambda x: x.split() if isinstance(x, str) else x)\n"
   ]
  },
  {
   "cell_type": "code",
   "execution_count": null,
   "id": "843007ca",
   "metadata": {},
   "outputs": [],
   "source": [
    "bolly"
   ]
  },
  {
   "cell_type": "code",
   "execution_count": null,
   "id": "37974f41",
   "metadata": {},
   "outputs": [],
   "source": [
    "#merge both movies and credits\n",
    "movies = movies.merge(credit,on='title')"
   ]
  },
  {
   "cell_type": "code",
   "execution_count": null,
   "id": "f3e6af54",
   "metadata": {},
   "outputs": [],
   "source": [
    "movies.head(1)"
   ]
  },
  {
   "cell_type": "code",
   "execution_count": null,
   "id": "a3b02723",
   "metadata": {},
   "outputs": [],
   "source": [
    "movies.isnull().sum()"
   ]
  },
  {
   "cell_type": "code",
   "execution_count": null,
   "id": "512de6ed",
   "metadata": {},
   "outputs": [],
   "source": [
    "movies.info()"
   ]
  },
  {
   "cell_type": "markdown",
   "id": "9acea321",
   "metadata": {},
   "source": [
    "we extracting those column that is used to creating tag"
   ]
  },
  {
   "cell_type": "code",
   "execution_count": null,
   "id": "3d6ab790",
   "metadata": {},
   "outputs": [],
   "source": [
    "#genres ,# id, # keyword, # title, #overview, #cast, #crew\n",
    "movies = movies[['id','title','overview','genres','keywords','cast','crew']]\n",
    "movies"
   ]
  },
  {
   "cell_type": "code",
   "execution_count": null,
   "id": "1b0ab376",
   "metadata": {},
   "outputs": [],
   "source": [
    "#chechking the missing values in column\n",
    "movies.isnull().sum()"
   ]
  },
  {
   "cell_type": "code",
   "execution_count": null,
   "id": "7c242973",
   "metadata": {},
   "outputs": [],
   "source": [
    "#drop the missing values of overview\n",
    "movies.dropna(inplace=True)"
   ]
  },
  {
   "cell_type": "code",
   "execution_count": null,
   "id": "0971eb66",
   "metadata": {},
   "outputs": [],
   "source": [
    "#checking duplicate values\n",
    "movies.duplicated().sum()\n"
   ]
  },
  {
   "cell_type": "code",
   "execution_count": null,
   "id": "c621c4e2",
   "metadata": {},
   "outputs": [],
   "source": [
    "#checking genres how look like\n",
    "movies.iloc[0].genres"
   ]
  },
  {
   "cell_type": "code",
   "execution_count": null,
   "id": "74a28df8",
   "metadata": {},
   "outputs": [],
   "source": [
    "#genres is in dectiory convert in list\n",
    "import ast"
   ]
  },
  {
   "cell_type": "code",
   "execution_count": null,
   "id": "5ce1dd76",
   "metadata": {},
   "outputs": [],
   "source": [
    "def convert(text):\n",
    "    L = []\n",
    "    for i in ast.literal_eval(text):\n",
    "        L.append(i['name']) \n",
    "    return L \n"
   ]
  },
  {
   "cell_type": "code",
   "execution_count": null,
   "id": "c71870f3",
   "metadata": {},
   "outputs": [],
   "source": [
    "movies.dropna(inplace=True)"
   ]
  },
  {
   "cell_type": "code",
   "execution_count": null,
   "id": "953ab173",
   "metadata": {},
   "outputs": [],
   "source": [
    "movies['genres'] = movies['genres'].apply(convert)\n",
    "movies['genres']"
   ]
  },
  {
   "cell_type": "code",
   "execution_count": null,
   "id": "2dd0e640",
   "metadata": {},
   "outputs": [],
   "source": [
    "movies.head(5)"
   ]
  },
  {
   "cell_type": "code",
   "execution_count": null,
   "id": "ce39e5ff",
   "metadata": {},
   "outputs": [],
   "source": [
    "#apply same thing on keyword\n",
    "movies['keywords'] = movies['keywords'].apply(convert)\n",
    "movies['keywords']\n"
   ]
  },
  {
   "cell_type": "code",
   "execution_count": null,
   "id": "3401cb42",
   "metadata": {},
   "outputs": [],
   "source": [
    "movies.head()"
   ]
  },
  {
   "cell_type": "code",
   "execution_count": null,
   "id": "328b7c29",
   "metadata": {},
   "outputs": [],
   "source": [
    "#extracting top three cast from cast \n",
    "def convert3(text):\n",
    "    L = []\n",
    "    counter = 0\n",
    "    for i in ast.literal_eval(text):\n",
    "        if counter < 3:\n",
    "            L.append(i['name'])\n",
    "            counter+=1\n",
    "        else:\n",
    "            break\n",
    "    return L \n"
   ]
  },
  {
   "cell_type": "code",
   "execution_count": null,
   "id": "37387d78",
   "metadata": {},
   "outputs": [],
   "source": [
    "movies['cast'] = movies['cast'].apply(convert3)\n",
    "movies.head()"
   ]
  },
  {
   "cell_type": "code",
   "execution_count": null,
   "id": "7ea4be3f",
   "metadata": {},
   "outputs": [],
   "source": [
    "movies['crew'][0]"
   ]
  },
  {
   "cell_type": "code",
   "execution_count": null,
   "id": "500dfe56",
   "metadata": {},
   "outputs": [],
   "source": [
    "#extracting director form crew column\n",
    "def fetch_director(text):\n",
    "    L = []\n",
    "    for i in ast.literal_eval(text):\n",
    "        if i['job'] == 'Director':\n",
    "            L.append(i['name'])\n",
    "            break\n",
    "    return L \n"
   ]
  },
  {
   "cell_type": "code",
   "execution_count": null,
   "id": "829902bd",
   "metadata": {},
   "outputs": [],
   "source": [
    "movies['crew'] = movies['crew'].apply(fetch_director)"
   ]
  },
  {
   "cell_type": "code",
   "execution_count": null,
   "id": "d6609c8c",
   "metadata": {},
   "outputs": [],
   "source": [
    "movies.sample(5)"
   ]
  },
  {
   "cell_type": "markdown",
   "id": "a1888afa",
   "metadata": {},
   "source": [
    "convertng overview from string to list to keep all column in list"
   ]
  },
  {
   "cell_type": "code",
   "execution_count": null,
   "id": "be11c924",
   "metadata": {},
   "outputs": [],
   "source": [
    "movies['overview'] = movies['overview'].apply(lambda x:x.split())\n",
    "movies.sample(5)\n",
    "movies.info()"
   ]
  },
  {
   "cell_type": "code",
   "execution_count": null,
   "id": "872ce5bc",
   "metadata": {},
   "outputs": [],
   "source": [
    "#change the the crew name with director\n",
    "movies = movies.rename(columns={'crew': 'director'})\n",
    "movies.info()"
   ]
  },
  {
   "cell_type": "code",
   "execution_count": null,
   "id": "82a2ea38",
   "metadata": {},
   "outputs": [],
   "source": [
    "merged_df = pd.concat([bolly, movies], ignore_index=True)\n",
    "merged_df.to_csv('data\\\\merged_output.csv', index=False)  # don't assign to 'film'\n",
    "merged_df.head()  # ✅ This will show the top 5 rows\n",
    "\n",
    "movies=merged_df\n",
    "movies"
   ]
  },
  {
   "cell_type": "code",
   "execution_count": null,
   "id": "1f220285",
   "metadata": {},
   "outputs": [],
   "source": [
    "#removing space between words to no confusune to creating tags\n",
    "def collapse(L):\n",
    "    if isinstance(L, list):\n",
    "        return [i.replace(\" \", \"\") for i in L]\n",
    "    return []  # or return L if you want to leave non-lists unchanged\n"
   ]
  },
  {
   "cell_type": "code",
   "execution_count": null,
   "id": "aad6d117",
   "metadata": {},
   "outputs": [],
   "source": [
    "movies['cast']     = movies['cast'].apply(collapse)\n",
    "movies['director'] = movies['director'].apply(collapse)\n",
    "movies['genres']   = movies['genres'].apply(collapse)\n",
    "movies['keywords'] = movies['keywords'].apply(collapse)\n"
   ]
  },
  {
   "cell_type": "code",
   "execution_count": null,
   "id": "d0a5ccec",
   "metadata": {},
   "outputs": [],
   "source": [
    "movies.head()"
   ]
  },
  {
   "cell_type": "code",
   "execution_count": null,
   "id": "b484a23c",
   "metadata": {},
   "outputs": [],
   "source": [
    "movies"
   ]
  },
  {
   "cell_type": "code",
   "execution_count": null,
   "id": "cca71745",
   "metadata": {},
   "outputs": [],
   "source": [
    "#creating tag\n",
    "movies['tags'] = movies['overview'] + movies['genres'] + movies['keywords'] + movies['cast'] + movies['director']\n"
   ]
  },
  {
   "cell_type": "code",
   "execution_count": null,
   "id": "ece01e6e",
   "metadata": {},
   "outputs": [],
   "source": [
    "new_df= movies[['id','title','tags']]\n",
    "new_df"
   ]
  },
  {
   "cell_type": "code",
   "execution_count": null,
   "id": "f7c8fdc4",
   "metadata": {},
   "outputs": [],
   "source": [
    "#converting tag from list to string \n",
    "new_df['tags'] = new_df['tags'].apply(lambda x:\" \".join(x))\n",
    "new_df"
   ]
  },
  {
   "cell_type": "code",
   "execution_count": null,
   "id": "6a5b9456",
   "metadata": {},
   "outputs": [],
   "source": [
    "#converting into lower case\n",
    "new_df['tags']=new_df['tags'].apply(lambda x:x.lower())"
   ]
  },
  {
   "cell_type": "code",
   "execution_count": null,
   "id": "402711ed",
   "metadata": {},
   "outputs": [],
   "source": [
    "new_df"
   ]
  },
  {
   "cell_type": "code",
   "execution_count": null,
   "id": "91c27dd5",
   "metadata": {},
   "outputs": [],
   "source": [
    "new_df['tags'][0]"
   ]
  },
  {
   "cell_type": "markdown",
   "id": "b4f04093",
   "metadata": {},
   "source": [
    "converting simmiler words to root word using nltk "
   ]
  },
  {
   "cell_type": "code",
   "execution_count": null,
   "id": "a4233315",
   "metadata": {},
   "outputs": [],
   "source": [
    "import nltk"
   ]
  },
  {
   "cell_type": "code",
   "execution_count": null,
   "id": "c2b6d567",
   "metadata": {},
   "outputs": [],
   "source": [
    "from nltk.stem.porter import PorterStemmer\n",
    "ps=PorterStemmer()"
   ]
  },
  {
   "cell_type": "code",
   "execution_count": null,
   "id": "6a0d7c03",
   "metadata": {},
   "outputs": [],
   "source": [
    "def stem(text):\n",
    "    y=[]\n",
    "    for i in text.split():\n",
    "        y.append(ps.stem(i))\n",
    "    return \" \".join(y)"
   ]
  },
  {
   "cell_type": "code",
   "execution_count": null,
   "id": "5f4b21a9",
   "metadata": {},
   "outputs": [],
   "source": [
    "new_df['tags']=new_df['tags'].apply(stem)"
   ]
  },
  {
   "cell_type": "markdown",
   "id": "8aa46241",
   "metadata": {},
   "source": [
    "converting tags into multidimensional vector and finding nearest vector to find simillar movies"
   ]
  },
  {
   "cell_type": "code",
   "execution_count": null,
   "id": "175b7853",
   "metadata": {},
   "outputs": [],
   "source": [
    "from sklearn.feature_extraction.text import CountVectorizer\n",
    "#chosing top 5000 word from list of all words\n",
    "cv=CountVectorizer(max_features=5000,stop_words='english')"
   ]
  },
  {
   "cell_type": "code",
   "execution_count": null,
   "id": "dc8a8f1c",
   "metadata": {},
   "outputs": [],
   "source": [
    "vectors=cv.fit_transform(new_df['tags']).toarray()"
   ]
  },
  {
   "cell_type": "code",
   "execution_count": null,
   "id": "fc5610f8",
   "metadata": {},
   "outputs": [],
   "source": [
    "vectors"
   ]
  },
  {
   "cell_type": "code",
   "execution_count": null,
   "id": "66c0c125",
   "metadata": {},
   "outputs": [],
   "source": [
    "vectors.shape"
   ]
  },
  {
   "cell_type": "code",
   "execution_count": null,
   "id": "d76f37c6",
   "metadata": {},
   "outputs": [],
   "source": [
    "#seeing the top 5000 words\n",
    "cv.get_feature_names_out()"
   ]
  },
  {
   "cell_type": "markdown",
   "id": "85ea02ac",
   "metadata": {},
   "source": [
    "We Calculating the cosine disatance between all vecotr from each other \n",
    "lower cosine values means similar movies"
   ]
  },
  {
   "cell_type": "code",
   "execution_count": null,
   "id": "37164909",
   "metadata": {},
   "outputs": [],
   "source": [
    "from sklearn.metrics.pairwise import cosine_similarity"
   ]
  },
  {
   "cell_type": "code",
   "execution_count": null,
   "id": "c6e0c306",
   "metadata": {},
   "outputs": [],
   "source": [
    "similarity=cosine_similarity(vectors)"
   ]
  },
  {
   "cell_type": "code",
   "execution_count": null,
   "id": "e23774c2",
   "metadata": {},
   "outputs": [],
   "source": [
    "#similarity matrix that store distance from each vector\n",
    "similarity"
   ]
  },
  {
   "cell_type": "code",
   "execution_count": null,
   "id": "f0a27c28",
   "metadata": {},
   "outputs": [],
   "source": [
    "#sort the list with index after sorting not loss the index\n",
    "#sorting is on second\n",
    "sorted(list(enumerate(similarity[0])),reverse=True,key=lambda x:x[1])\n"
   ]
  },
  {
   "cell_type": "markdown",
   "id": "13f7cd37",
   "metadata": {},
   "source": [
    "Now if we enter Movies \n",
    "then give five similar movies"
   ]
  },
  {
   "cell_type": "code",
   "execution_count": null,
   "id": "37d2380d",
   "metadata": {},
   "outputs": [],
   "source": [
    "#feathening the movie index \n",
    "def recommend(movie):\n",
    "    movie_index = new_df[new_df['title']==movie].index[0]\n",
    "    distances= similarity[movie_index]\n",
    "    movies_list = sorted(list(enumerate(distances)),reverse=True,key=lambda x:x[1])[1:6]\n",
    "    for i in movies_list:\n",
    "        print(new_df.iloc[i[0]].title)"
   ]
  },
  {
   "cell_type": "code",
   "execution_count": null,
   "id": "b80006fb",
   "metadata": {},
   "outputs": [],
   "source": [
    "recommend('Jawan')"
   ]
  },
  {
   "cell_type": "code",
   "execution_count": null,
   "id": "2c563ce1",
   "metadata": {},
   "outputs": [],
   "source": [
    "import pickle"
   ]
  },
  {
   "cell_type": "code",
   "execution_count": null,
   "id": "b68ee7d6",
   "metadata": {},
   "outputs": [],
   "source": [
    "pickle.dump(new_df,open('data\\\\movies.pkl','wb'))"
   ]
  },
  {
   "cell_type": "code",
   "execution_count": null,
   "id": "bbe1ee2d",
   "metadata": {},
   "outputs": [],
   "source": [
    "new_df.to_dict()"
   ]
  },
  {
   "cell_type": "code",
   "execution_count": null,
   "id": "65b7670f",
   "metadata": {},
   "outputs": [],
   "source": [
    "pickle.dump(new_df.to_dict(),open('data\\\\movie_dict.pkl','wb'))"
   ]
  },
  {
   "cell_type": "code",
   "execution_count": null,
   "id": "a8b1f8b6",
   "metadata": {},
   "outputs": [],
   "source": [
    "pickle.dump(similarity, open('data\\\\similarity.pkl','wb'))"
   ]
  },
  {
   "cell_type": "code",
   "execution_count": null,
   "id": "f531552c",
   "metadata": {},
   "outputs": [],
   "source": []
  }
 ],
 "metadata": {
  "kernelspec": {
   "display_name": "movie-recommender",
   "language": "python",
   "name": "python3"
  },
  "language_info": {
   "codemirror_mode": {
    "name": "ipython",
    "version": 3
   },
   "file_extension": ".py",
   "mimetype": "text/x-python",
   "name": "python",
   "nbconvert_exporter": "python",
   "pygments_lexer": "ipython3",
   "version": "3.13.3"
  }
 },
 "nbformat": 4,
 "nbformat_minor": 5
}
